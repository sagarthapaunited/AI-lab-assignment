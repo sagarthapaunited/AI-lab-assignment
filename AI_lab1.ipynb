{
  "nbformat": 4,
  "nbformat_minor": 0,
  "metadata": {
    "colab": {
      "provenance": []
    },
    "kernelspec": {
      "name": "python3",
      "display_name": "Python 3"
    },
    "language_info": {
      "name": "python"
    }
  },
  "cells": [
    {
      "cell_type": "code",
      "execution_count": 1,
      "metadata": {
        "colab": {
          "base_uri": "https://localhost:8080/"
        },
        "id": "ZWwL9zhdKDiM",
        "outputId": "ceff56dc-bcae-4adb-a64c-ad6598143946"
      },
      "outputs": [
        {
          "output_type": "stream",
          "name": "stdout",
          "text": [
            "Enter the starting number of the range: 1\n",
            "Enter the ending number of the range: 50\n",
            "Prime numbers between 1 and 50 are:\n",
            "2\n",
            "3\n",
            "5\n",
            "7\n",
            "11\n",
            "13\n",
            "17\n",
            "19\n",
            "23\n",
            "29\n",
            "31\n",
            "37\n",
            "41\n",
            "43\n",
            "47\n"
          ]
        }
      ],
      "source": [
        "#Q1 Prime number within a range using function\n",
        "def is_prime(n):\n",
        "    if n < 2:\n",
        "        return False\n",
        "    for i in range(2, int(n**0.5) + 1):\n",
        "        if n % i == 0:\n",
        "            return False\n",
        "    return True\n",
        "start = int(input(\"Enter the starting number of the range: \"))\n",
        "end = int(input(\"Enter the ending number of the range: \"))\n",
        "print(\"Prime numbers between\", start, \"and\", end, \"are:\")\n",
        "for num in range(start, end+1):\n",
        "    if is_prime(num):\n",
        "        print(num)"
      ]
    },
    {
      "cell_type": "code",
      "source": [
        "#Q2 Program to check palindrome number\n",
        "n=int(input(\"Enter number:\"))\n",
        "temp=n\n",
        "rev=0\n",
        "while(n>0):\n",
        "    dig=n%10\n",
        "    rev=rev*10+dig\n",
        "    n=n//10\n",
        "if(temp==rev):\n",
        "    print(\"The number is a palindrome!\")\n",
        "else:\n",
        "    print(\"The number isn't a palindrome!\")"
      ],
      "metadata": {
        "colab": {
          "base_uri": "https://localhost:8080/"
        },
        "id": "GmTn7NunMBUf",
        "outputId": "16d5b4b0-2e51-4fec-a52d-226597da8ae2"
      },
      "execution_count": 2,
      "outputs": [
        {
          "output_type": "stream",
          "name": "stdout",
          "text": [
            "Enter number:123454321\n",
            "The number is a palindrome!\n"
          ]
        }
      ]
    },
    {
      "cell_type": "code",
      "source": [
        "#Q3 Program to display the Fibonacci sequence\n",
        "nterms = int(input(\"How many terms? \"))\n",
        "n1, n2 = 0, 1\n",
        "count = 0\n",
        "if nterms <= 0:\n",
        "   print(\"Please enter a positive integer\")\n",
        "elif nterms == 1:\n",
        "   print(\"Fibonacci sequence upto\",nterms,\":\")\n",
        "   print(n1)\n",
        "else:\n",
        "   print(\"Fibonacci sequence:\")\n",
        "   while count < nterms:\n",
        "       print(n1)\n",
        "       nth = n1 + n2\n",
        "       n1 = n2\n",
        "       n2 = nth\n",
        "       count += 1"
      ],
      "metadata": {
        "colab": {
          "base_uri": "https://localhost:8080/"
        },
        "id": "YW1Na2Z1MQ8_",
        "outputId": "3c5f15cb-a02b-4d89-896a-e11e8931372d"
      },
      "execution_count": 3,
      "outputs": [
        {
          "output_type": "stream",
          "name": "stdout",
          "text": [
            "How many terms? 10\n",
            "Fibonacci sequence:\n",
            "0\n",
            "1\n",
            "1\n",
            "2\n",
            "3\n",
            "5\n",
            "8\n",
            "13\n",
            "21\n",
            "34\n"
          ]
        }
      ]
    },
    {
      "cell_type": "code",
      "source": [
        "#Q4 Python program to create a number guessing game\n",
        "import random\n",
        "\n",
        "def guess_number():\n",
        "    secret_number = random.randint(1, 100)\n",
        "    attempts = 0\n",
        "\n",
        "    print(\"Welcome to the Number Guessing Game!\")\n",
        "    print(\"I have selected a number between 1 and 100. Try to guess it.\")\n",
        "\n",
        "    while True:\n",
        "        guess = input(\"Enter your guess (or 'exit' to end the game): \")\n",
        "        if guess.lower() == 'exit':\n",
        "            print(\"Thanks for playing. Goodbye!\")\n",
        "            break\n",
        "        try:\n",
        "            guess = int(guess)\n",
        "        except ValueError:\n",
        "            print(\"Please enter a valid number.\")\n",
        "            continue\n",
        "        attempts += 1\n",
        "        if guess == secret_number:\n",
        "            print(f\"Congratulations! You guessed the number {secret_number} correctly in {attempts} attempts.\")\n",
        "            break\n",
        "        elif guess < secret_number:\n",
        "            print(\"The number is higher. Try again.\")\n",
        "        else:\n",
        "            print(\"The number is lower. Try again.\")\n",
        "\n",
        "guess_number()\n"
      ],
      "metadata": {
        "colab": {
          "base_uri": "https://localhost:8080/"
        },
        "id": "AMOyi4WBNiAm",
        "outputId": "f1c8b73c-72c0-4b20-8dfa-a12baf6e838d"
      },
      "execution_count": 4,
      "outputs": [
        {
          "output_type": "stream",
          "name": "stdout",
          "text": [
            "Welcome to the Number Guessing Game!\n",
            "I have selected a number between 1 and 100. Try to guess it.\n",
            "Enter your guess (or 'exit' to end the game): 50\n",
            "The number is lower. Try again.\n",
            "Enter your guess (or 'exit' to end the game): 40\n",
            "The number is lower. Try again.\n",
            "Enter your guess (or 'exit' to end the game): 30\n",
            "The number is lower. Try again.\n",
            "Enter your guess (or 'exit' to end the game): 20\n",
            "The number is lower. Try again.\n",
            "Enter your guess (or 'exit' to end the game): 10\n",
            "The number is higher. Try again.\n",
            "Enter your guess (or 'exit' to end the game): 15\n",
            "The number is higher. Try again.\n",
            "Enter your guess (or 'exit' to end the game): 17\n",
            "The number is lower. Try again.\n",
            "Enter your guess (or 'exit' to end the game): 16\n",
            "Congratulations! You guessed the number 16 correctly in 8 attempts.\n"
          ]
        }
      ]
    }
  ]
}